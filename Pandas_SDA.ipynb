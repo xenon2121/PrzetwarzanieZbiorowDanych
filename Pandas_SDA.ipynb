{
 "cells": [
  {
   "cell_type": "code",
   "execution_count": 1,
   "id": "e829e19f-d73a-45ce-a01f-679863035640",
   "metadata": {},
   "outputs": [
    {
     "name": "stdout",
     "output_type": "stream",
     "text": [
      "hello sda\n"
     ]
    }
   ],
   "source": [
    "print(\"hello sda\")"
   ]
  },
  {
   "cell_type": "code",
   "execution_count": 2,
   "id": "47e860fa-c86e-4757-80c7-4108ac658c27",
   "metadata": {},
   "outputs": [],
   "source": [
    "import pandas as pd"
   ]
  },
  {
   "cell_type": "code",
   "execution_count": null,
   "id": "edf3baec-5767-4e30-a679-6ec2428d2975",
   "metadata": {},
   "outputs": [],
   "source": []
  }
 ],
 "metadata": {
  "kernelspec": {
   "display_name": "venv_bartek_sda",
   "language": "python",
   "name": "venv_bartek_sda"
  },
  "language_info": {
   "codemirror_mode": {
    "name": "ipython",
    "version": 3
   },
   "file_extension": ".py",
   "mimetype": "text/x-python",
   "name": "python",
   "nbconvert_exporter": "python",
   "pygments_lexer": "ipython3",
   "version": "3.10.4"
  }
 },
 "nbformat": 4,
 "nbformat_minor": 5
}
